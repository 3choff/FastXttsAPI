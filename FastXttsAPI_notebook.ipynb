{
  "cells": [
    {
      "cell_type": "markdown",
      "metadata": {
        "id": "hG6BQ4619bgJ"
      },
      "source": [
        "# Setup\n",
        "This Jupyter Notebook is designed to run FastXttsAPI and take advantage of the GPU capabilities available in Google Colab. As Google Colab runs in a secluded environment, it utilizes Ngrok to establish a secure tunnel from a public URL to a specific port, enabling remote access. This setup allows users to interact with services running on the Colab machine from external locations. To obtain a free authentication token, simply sign up with [Ngrok](https://ngrok.com/) and set the token in the Colab variables."
      ]
    },
    {
      "cell_type": "markdown",
      "metadata": {
        "id": "1f9rMnQOAkbN"
      },
      "source": [
        "## Clone the repository"
      ]
    },
    {
      "cell_type": "code",
      "execution_count": null,
      "metadata": {
        "id": "H8F9TYER81UC"
      },
      "outputs": [],
      "source": [
        "!git clone https://github.com/3choff/FastXttsAPI.git"
      ]
    },
    {
      "cell_type": "markdown",
      "metadata": {
        "id": "kwJDKiNaA306"
      },
      "source": [
        "## Install dependencies"
      ]
    },
    {
      "cell_type": "code",
      "execution_count": null,
      "metadata": {
        "id": "TK6H1zWXAqI8"
      },
      "outputs": [],
      "source": [
        "!pip install pyngrok\n",
        "%cd /content/FastXttsAPI/server\n",
        "!pip install -r requirements_nb.txt"
      ]
    },
    {
      "cell_type": "markdown",
      "metadata": {
        "id": "PG_5uLq7zUsu"
      },
      "source": [
        "Click **Restart Session** after the installation process."
      ]
    },
    {
      "cell_type": "markdown",
      "metadata": {
        "id": "PGxY2uwbSTwu"
      },
      "source": [
        "## Import Ngrok Authorization Token"
      ]
    },
    {
      "cell_type": "code",
      "execution_count": null,
      "metadata": {
        "id": "Woo5ojd3Rz_Q"
      },
      "outputs": [],
      "source": [
        "import os\n",
        "from google.colab import userdata\n",
        "os.environ[\"NGROK_AUTH_TOKEN\"] = userdata.get('NGROK_AUTH_TOKEN')\n",
        "auth_token=os.environ.get(\"NGROK_AUTH_TOKEN\")\n",
        "os.environ[\"COQUI_TOS_AGREED\"] = \"1\""
      ]
    },
    {
      "cell_type": "markdown",
      "metadata": {
        "id": "6QV-zCBNBzBC"
      },
      "source": [
        "# Run FastWhisperAPI"
      ]
    },
    {
      "cell_type": "code",
      "execution_count": null,
      "metadata": {
        "id": "JAWrviSqBZ-3"
      },
      "outputs": [],
      "source": [
        "import nest_asyncio\n",
        "from pyngrok import ngrok\n",
        "import fastapi\n",
        "ngrok.set_auth_token(auth_token)\n",
        "ngrok_tunnel = ngrok.connect(8000)\n",
        "print('Public URL:', ngrok_tunnel.public_url)\n",
        "nest_asyncio.apply()\n",
        "!cd /content/FastXttsAPI/server && fastapi run main.py"
      ]
    }
  ],
  "metadata": {
    "accelerator": "GPU",
    "colab": {
      "gpuType": "T4",
      "private_outputs": true,
      "provenance": []
    },
    "kernelspec": {
      "display_name": "Python 3",
      "name": "python3"
    },
    "language_info": {
      "name": "python"
    }
  },
  "nbformat": 4,
  "nbformat_minor": 0
}
